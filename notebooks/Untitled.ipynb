{
 "cells": [
  {
   "cell_type": "code",
   "execution_count": 1,
   "id": "b1db26d3-9f3f-48b5-9880-1bf64c61bdac",
   "metadata": {
    "tags": []
   },
   "outputs": [],
   "source": [
    "import os, sys\n",
    "from pathlib import Path\n",
    "PROJECTPATH = '/home/jmgibso3/ncstate/projects/sat-utils/'\n",
    "sys.path.insert(0, PROJECTPATH)\n",
    "os.chdir(PROJECTPATH)"
   ]
  },
  {
   "cell_type": "code",
   "execution_count": 2,
   "id": "81212050-3259-4c17-9844-5d2230cfcce0",
   "metadata": {
    "tags": []
   },
   "outputs": [],
   "source": [
    "from urllib.parse import urlencode\n",
    "from sat import gravity_forms"
   ]
  },
  {
   "cell_type": "code",
   "execution_count": 3,
   "id": "1f4728d2-26b1-4cbb-b856-2e9b458b619d",
   "metadata": {
    "tags": []
   },
   "outputs": [],
   "source": [
    "gravity = gravity_forms.GravityForms()"
   ]
  },
  {
   "cell_type": "code",
   "execution_count": 4,
   "id": "fce9b5d2-d3ad-4f9e-b5ef-8ebc2743692f",
   "metadata": {
    "tags": []
   },
   "outputs": [
    {
     "data": {
      "text/plain": [
       "<sat.gravity_forms.Form at 0x775d2bc82890>"
      ]
     },
     "execution_count": 4,
     "metadata": {},
     "output_type": "execute_result"
    }
   ],
   "source": [
    "form = gravity.get_form(3)\n",
    "form"
   ]
  },
  {
   "cell_type": "code",
   "execution_count": 5,
   "id": "0b3e9de6-4170-4538-9e3b-d99d3ae2ceec",
   "metadata": {
    "tags": []
   },
   "outputs": [
    {
     "data": {
      "text/plain": [
       "[<sat.gravity_forms.Form at 0x775d281e0f40>,\n",
       " <sat.gravity_forms.Form at 0x775d2bc83b50>,\n",
       " <sat.gravity_forms.Form at 0x775d2bc83b20>,\n",
       " <sat.gravity_forms.Form at 0x775d2bc82f50>,\n",
       " <sat.gravity_forms.Form at 0x775d2bca63b0>,\n",
       " <sat.gravity_forms.Form at 0x775d2bca65c0>]"
      ]
     },
     "execution_count": 5,
     "metadata": {},
     "output_type": "execute_result"
    }
   ],
   "source": [
    "gravity.get_forms()"
   ]
  },
  {
   "cell_type": "code",
   "execution_count": 7,
   "id": "250b3874-8dcd-47d9-b321-41d767778bd9",
   "metadata": {
    "tags": []
   },
   "outputs": [],
   "source": [
    "ent = gravity.get_entries()[0]"
   ]
  },
  {
   "cell_type": "code",
   "execution_count": 11,
   "id": "a184a4f1-c213-4f66-92a5-0a05b158fbf4",
   "metadata": {
    "tags": []
   },
   "outputs": [
    {
     "data": {
      "text/plain": [
       "'1'"
      ]
     },
     "execution_count": 11,
     "metadata": {},
     "output_type": "execute_result"
    }
   ],
   "source": [
    "dir(ent)\n",
    "\n",
    "ent.form_id"
   ]
  },
  {
   "cell_type": "code",
   "execution_count": 10,
   "id": "58ab3076-2274-4fa8-9517-3baa3bc0053b",
   "metadata": {
    "tags": []
   },
   "outputs": [
    {
     "data": {
      "text/plain": [
       "'NESTED - Request form - cardholder info'"
      ]
     },
     "execution_count": 10,
     "metadata": {},
     "output_type": "execute_result"
    }
   ],
   "source": [
    "form.title"
   ]
  },
  {
   "cell_type": "code",
   "execution_count": 11,
   "id": "198abbfe-6d57-414c-b1cd-e1004a14f4d6",
   "metadata": {
    "tags": []
   },
   "outputs": [
    {
     "data": {
      "text/plain": [
       "{'labelPlacement': 'top_label',\n",
       " 'descriptionPlacement': 'below',\n",
       " 'button': {'type': 'text', 'text': 'Submit', 'imageUrl': ''},\n",
       " 'fields': [{'type': 'name',\n",
       "   'id': 2,\n",
       "   'label': 'Name',\n",
       "   'adminLabel': '',\n",
       "   'isRequired': True,\n",
       "   'size': 'medium',\n",
       "   'errorMessage': '',\n",
       "   'visibility': 'visible',\n",
       "   'nameFormat': 'advanced',\n",
       "   'inputs': [{'id': '2.2',\n",
       "     'label': 'Prefix',\n",
       "     'name': '',\n",
       "     'choices': [{'text': 'Mr.',\n",
       "       'value': 'Mr.',\n",
       "       'isSelected': False,\n",
       "       'price': ''},\n",
       "      {'text': 'Mrs.', 'value': 'Mrs.', 'isSelected': False, 'price': ''},\n",
       "      {'text': 'Miss', 'value': 'Miss', 'isSelected': False, 'price': ''},\n",
       "      {'text': 'Ms.', 'value': 'Ms.', 'isSelected': False, 'price': ''},\n",
       "      {'text': 'Dr.', 'value': 'Dr.', 'isSelected': False, 'price': ''},\n",
       "      {'text': 'Prof.', 'value': 'Prof.', 'isSelected': False, 'price': ''},\n",
       "      {'text': 'Rev.', 'value': 'Rev.', 'isSelected': False, 'price': ''}],\n",
       "     'isHidden': True,\n",
       "     'inputType': 'radio'},\n",
       "    {'id': '2.3', 'label': 'First', 'name': ''},\n",
       "    {'id': '2.4', 'label': 'Middle', 'name': '', 'isHidden': True},\n",
       "    {'id': '2.6', 'label': 'Last', 'name': ''},\n",
       "    {'id': '2.8', 'label': 'Suffix', 'name': '', 'isHidden': True}],\n",
       "   'formId': 3,\n",
       "   'description': '',\n",
       "   'allowsPrepopulate': False,\n",
       "   'inputMask': False,\n",
       "   'inputMaskValue': '',\n",
       "   'inputType': '',\n",
       "   'labelPlacement': '',\n",
       "   'descriptionPlacement': '',\n",
       "   'subLabelPlacement': '',\n",
       "   'placeholder': '',\n",
       "   'cssClass': '',\n",
       "   'inputName': '',\n",
       "   'noDuplicates': False,\n",
       "   'defaultValue': '',\n",
       "   'choices': '',\n",
       "   'conditionalLogic': '',\n",
       "   'productField': '',\n",
       "   'multipleFiles': False,\n",
       "   'maxFiles': '',\n",
       "   'calculationFormula': '',\n",
       "   'calculationRounding': '',\n",
       "   'enableCalculation': '',\n",
       "   'disableQuantity': False,\n",
       "   'displayAllCategories': False,\n",
       "   'useRichTextEditor': False,\n",
       "   'pageNumber': 1,\n",
       "   'displayOnly': '',\n",
       "   'fields': '',\n",
       "   'inputMaskIsCustom': '',\n",
       "   'maxLength': ''},\n",
       "  {'type': 'email',\n",
       "   'id': 3,\n",
       "   'label': 'Email',\n",
       "   'adminLabel': '',\n",
       "   'isRequired': True,\n",
       "   'size': 'medium',\n",
       "   'errorMessage': '',\n",
       "   'visibility': 'visible',\n",
       "   'inputs': None,\n",
       "   'formId': 3,\n",
       "   'description': '',\n",
       "   'allowsPrepopulate': False,\n",
       "   'inputMask': False,\n",
       "   'inputMaskValue': '',\n",
       "   'inputType': '',\n",
       "   'labelPlacement': '',\n",
       "   'descriptionPlacement': '',\n",
       "   'subLabelPlacement': '',\n",
       "   'placeholder': '',\n",
       "   'cssClass': '',\n",
       "   'inputName': '',\n",
       "   'noDuplicates': False,\n",
       "   'defaultValue': '',\n",
       "   'choices': '',\n",
       "   'conditionalLogic': '',\n",
       "   'productField': '',\n",
       "   'emailConfirmEnabled': '',\n",
       "   'multipleFiles': False,\n",
       "   'maxFiles': '',\n",
       "   'calculationFormula': '',\n",
       "   'calculationRounding': '',\n",
       "   'enableCalculation': '',\n",
       "   'disableQuantity': False,\n",
       "   'displayAllCategories': False,\n",
       "   'useRichTextEditor': False,\n",
       "   'pageNumber': 1,\n",
       "   'displayOnly': '',\n",
       "   'fields': '',\n",
       "   'inputMaskIsCustom': '',\n",
       "   'maxLength': ''},\n",
       "  {'type': 'text',\n",
       "   'id': 5,\n",
       "   'label': 'Campus ID (if available)',\n",
       "   'adminLabel': '',\n",
       "   'isRequired': False,\n",
       "   'size': 'medium',\n",
       "   'errorMessage': '',\n",
       "   'visibility': 'visible',\n",
       "   'inputs': None,\n",
       "   'formId': 3,\n",
       "   'description': 'If the card holder already has an assigned 9-digit Campus ID number, please enter it here.',\n",
       "   'allowsPrepopulate': False,\n",
       "   'inputMask': True,\n",
       "   'inputMaskValue': '999999999',\n",
       "   'inputMaskIsCustom': True,\n",
       "   'maxLength': '',\n",
       "   'inputType': '',\n",
       "   'labelPlacement': '',\n",
       "   'descriptionPlacement': '',\n",
       "   'subLabelPlacement': '',\n",
       "   'placeholder': '',\n",
       "   'cssClass': '',\n",
       "   'inputName': '',\n",
       "   'noDuplicates': False,\n",
       "   'defaultValue': '',\n",
       "   'choices': '',\n",
       "   'conditionalLogic': '',\n",
       "   'productField': '',\n",
       "   'enablePasswordInput': '',\n",
       "   'multipleFiles': False,\n",
       "   'maxFiles': '',\n",
       "   'calculationFormula': '',\n",
       "   'calculationRounding': '',\n",
       "   'enableCalculation': '',\n",
       "   'disableQuantity': False,\n",
       "   'displayAllCategories': False,\n",
       "   'useRichTextEditor': False,\n",
       "   'gp-unique-id_starting_number': '',\n",
       "   'checkboxLabel': '',\n",
       "   'pageNumber': 1,\n",
       "   'fields': ''},\n",
       "  {'type': 'uid',\n",
       "   'id': 4,\n",
       "   'label': 'Unique ID',\n",
       "   'adminLabel': '',\n",
       "   'isRequired': False,\n",
       "   'size': 'medium',\n",
       "   'errorMessage': '',\n",
       "   'visibility': 'hidden',\n",
       "   'inputs': None,\n",
       "   'gp-unique-id_type': 'sequential',\n",
       "   'formId': 3,\n",
       "   'description': '',\n",
       "   'allowsPrepopulate': False,\n",
       "   'inputMask': False,\n",
       "   'inputMaskValue': '',\n",
       "   'inputType': '',\n",
       "   'labelPlacement': '',\n",
       "   'descriptionPlacement': '',\n",
       "   'subLabelPlacement': '',\n",
       "   'placeholder': '',\n",
       "   'cssClass': '',\n",
       "   'inputName': '',\n",
       "   'noDuplicates': False,\n",
       "   'defaultValue': '',\n",
       "   'choices': '',\n",
       "   'conditionalLogic': {'actionType': 'hide',\n",
       "    'logicType': 'all',\n",
       "    'rules': [{'fieldId': '5', 'operator': '>', 'value': '0'}]},\n",
       "   'productField': '',\n",
       "   'multipleFiles': False,\n",
       "   'maxFiles': '',\n",
       "   'calculationFormula': '',\n",
       "   'calculationRounding': '',\n",
       "   'enableCalculation': '',\n",
       "   'disableQuantity': False,\n",
       "   'displayAllCategories': False,\n",
       "   'useRichTextEditor': False,\n",
       "   'gp-unique-id_starting_number': '100028400',\n",
       "   'pageNumber': 1,\n",
       "   'displayOnly': '',\n",
       "   'fields': '',\n",
       "   'inputMaskIsCustom': False,\n",
       "   'maxLength': ''}],\n",
       " 'useCurrentUserAsAuthor': True,\n",
       " 'postContentTemplateEnabled': False,\n",
       " 'postTitleTemplateEnabled': False,\n",
       " 'postTitleTemplate': '',\n",
       " 'postContentTemplate': '',\n",
       " 'lastPageButton': None,\n",
       " 'pagination': None,\n",
       " 'firstPageCssClass': None,\n",
       " 'nextFieldId': 6,\n",
       " 'notifications': [],\n",
       " 'confirmations': {'5acfbb44d680c': {'id': '5acfbb44d680c',\n",
       "   'name': 'Default Confirmation',\n",
       "   'isDefault': True,\n",
       "   'type': 'message',\n",
       "   'message': 'Thanks for contacting us! We will get in touch with you shortly.',\n",
       "   'url': '',\n",
       "   'pageId': '',\n",
       "   'queryString': ''}}}"
      ]
     },
     "execution_count": 11,
     "metadata": {},
     "output_type": "execute_result"
    }
   ],
   "source": [
    "form.details"
   ]
  },
  {
   "cell_type": "code",
   "execution_count": null,
   "id": "ff5e1405-3a4b-42c8-ba9a-7db99b7943b4",
   "metadata": {},
   "outputs": [],
   "source": []
  }
 ],
 "metadata": {
  "kernelspec": {
   "display_name": "Python 3 (ipykernel)",
   "language": "python",
   "name": "python3"
  },
  "language_info": {
   "codemirror_mode": {
    "name": "ipython",
    "version": 3
   },
   "file_extension": ".py",
   "mimetype": "text/x-python",
   "name": "python",
   "nbconvert_exporter": "python",
   "pygments_lexer": "ipython3",
   "version": "3.10.4"
  }
 },
 "nbformat": 4,
 "nbformat_minor": 5
}
