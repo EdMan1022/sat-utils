{
 "cells": [
  {
   "cell_type": "code",
   "execution_count": 1,
   "id": "b1db26d3-9f3f-48b5-9880-1bf64c61bdac",
   "metadata": {
    "tags": []
   },
   "outputs": [],
   "source": [
    "import os, sys\n",
    "from pathlib import Path\n",
    "PROJECTPATH = '/home/jmgibso3/ncstate/projects/sat-utils/'\n",
    "sys.path.insert(0, PROJECTPATH)\n",
    "os.chdir(PROJECTPATH)"
   ]
  },
  {
   "cell_type": "code",
   "execution_count": 2,
   "id": "81212050-3259-4c17-9844-5d2230cfcce0",
   "metadata": {
    "tags": []
   },
   "outputs": [],
   "source": [
    "from urllib.parse import urlencode\n",
    "from sat import gravity_forms"
   ]
  },
  {
   "cell_type": "code",
   "execution_count": 3,
   "id": "1f4728d2-26b1-4cbb-b856-2e9b458b619d",
   "metadata": {
    "tags": []
   },
   "outputs": [],
   "source": [
    "gravity = gravity_forms.GravityForms()"
   ]
  },
  {
   "cell_type": "code",
   "execution_count": 4,
   "id": "fce9b5d2-d3ad-4f9e-b5ef-8ebc2743692f",
   "metadata": {
    "tags": []
   },
   "outputs": [
    {
     "data": {
      "text/plain": [
       "<sat.gravity_forms.Form at 0x7c38e941be20>"
      ]
     },
     "execution_count": 4,
     "metadata": {},
     "output_type": "execute_result"
    }
   ],
   "source": [
    "form = gravity.get_form(3)\n",
    "form"
   ]
  },
  {
   "cell_type": "code",
   "execution_count": 5,
   "id": "0b3e9de6-4170-4538-9e3b-d99d3ae2ceec",
   "metadata": {
    "tags": []
   },
   "outputs": [
    {
     "data": {
      "text/plain": [
       "[<sat.gravity_forms.Form at 0x7c38e8160f70>,\n",
       " <sat.gravity_forms.Form at 0x7c38e93f7b20>,\n",
       " <sat.gravity_forms.Form at 0x7c38e93f67d0>,\n",
       " <sat.gravity_forms.Form at 0x7c38e93f6950>,\n",
       " <sat.gravity_forms.Form at 0x7c38e93f7010>,\n",
       " <sat.gravity_forms.Form at 0x7c38e93f6b60>]"
      ]
     },
     "execution_count": 5,
     "metadata": {},
     "output_type": "execute_result"
    }
   ],
   "source": [
    "gravity.get_forms()"
   ]
  },
  {
   "cell_type": "code",
   "execution_count": 14,
   "id": "250b3874-8dcd-47d9-b321-41d767778bd9",
   "metadata": {
    "tags": []
   },
   "outputs": [],
   "source": [
    "sponsors = gravity.get_entries(form_id=2)\n",
    "cards = gravity.get_entries(form_id=3)"
   ]
  },
  {
   "cell_type": "code",
   "execution_count": 18,
   "id": "d6edf62e-0f57-4404-ba59-da841194bec1",
   "metadata": {
    "tags": []
   },
   "outputs": [
    {
     "data": {
      "text/plain": [
       "{'id': '20454',\n",
       " 'form_id': '2',\n",
       " 'created_by': '5757',\n",
       " 'date_created': '2024-02-28 13:14:08',\n",
       " 'date_updated': '2024-02-28 13:14:08',\n",
       " 'is_starred': '0',\n",
       " 'is_read': '0',\n",
       " 'ip': '152.1.166.139',\n",
       " 'source_url': 'https://onecard.ncsu.edu/get-card/card-request-form/',\n",
       " 'post_id': None,\n",
       " 'user_agent': 'Mozilla/5.0 (Windows NT 10.0; Win64; x64) AppleWebKit/537.36 (KHTML, like Gecko) Chrome/122.0.0.0 Safari/537.36',\n",
       " 'status': 'active',\n",
       " 'is_fulfilled': None,\n",
       " 'details': {'date_updated': '2024-02-28 13:14:08',\n",
       "  'currency': 'USD',\n",
       "  'payment_status': None,\n",
       "  'payment_date': None,\n",
       "  'payment_amount': None,\n",
       "  'payment_method': None,\n",
       "  'transaction_id': None,\n",
       "  'transaction_type': None,\n",
       "  '22': 'Kimberly Mahl',\n",
       "  '23': 'kkmahl',\n",
       "  '21': 'kkmahl@ncsu.edu',\n",
       "  '32': '20447,20448,20449,20450,20451,20452,20453',\n",
       "  '7': 'Corporate Partner',\n",
       "  '16': 'Osher Lifelong Learning Institute',\n",
       "  '17': '(919) 515-5782',\n",
       "  '18': 'olli_info@ncsu.edu',\n",
       "  '19': '',\n",
       "  '29': '',\n",
       "  '8': '',\n",
       "  '13': '',\n",
       "  '27': '',\n",
       "  '24': '',\n",
       "  '25': '',\n",
       "  '12': '',\n",
       "  '14': '',\n",
       "  '15': '',\n",
       "  '20': '',\n",
       "  '26': '',\n",
       "  '33': '',\n",
       "  '34': '',\n",
       "  '36': '',\n",
       "  'gpnf_entry_parent': False,\n",
       "  'gpnf_entry_parent_form': False,\n",
       "  'gpnf_entry_nested_form_field': False}}"
      ]
     },
     "execution_count": 18,
     "metadata": {},
     "output_type": "execute_result"
    }
   ],
   "source": [
    "sponsors[0].__dict__"
   ]
  },
  {
   "cell_type": "code",
   "execution_count": 19,
   "id": "a184a4f1-c213-4f66-92a5-0a05b158fbf4",
   "metadata": {
    "tags": []
   },
   "outputs": [
    {
     "data": {
      "text/plain": [
       "{'id': '20453',\n",
       " 'form_id': '3',\n",
       " 'created_by': '5757',\n",
       " 'date_created': '2024-02-28 13:13:19',\n",
       " 'date_updated': '2024-02-28 13:13:19',\n",
       " 'is_starred': '0',\n",
       " 'is_read': '0',\n",
       " 'ip': '152.1.166.139',\n",
       " 'source_url': 'https://onecard.ncsu.edu/get-card/card-request-form/',\n",
       " 'post_id': None,\n",
       " 'user_agent': 'Mozilla/5.0 (Windows NT 10.0; Win64; x64) AppleWebKit/537.36 (KHTML, like Gecko) Chrome/122.0.0.0 Safari/537.36',\n",
       " 'status': 'active',\n",
       " 'is_fulfilled': None,\n",
       " 'details': {'date_updated': '2024-02-28 13:13:19',\n",
       "  'currency': 'USD',\n",
       "  'payment_status': None,\n",
       "  'payment_date': None,\n",
       "  'payment_amount': None,\n",
       "  'payment_method': None,\n",
       "  'transaction_id': None,\n",
       "  'transaction_type': None,\n",
       "  '2.3': 'Christina',\n",
       "  '2.6': 'Harvey',\n",
       "  '3': 'cnharvey48@gmail.com',\n",
       "  '4': '100038329',\n",
       "  'gpnf_entry_parent': '20454',\n",
       "  'gpnf_entry_parent_form': '2',\n",
       "  'gpnf_entry_nested_form_field': '32',\n",
       "  '2.2': '',\n",
       "  '2.4': '',\n",
       "  '2.8': '',\n",
       "  '5': ''}}"
      ]
     },
     "execution_count": 19,
     "metadata": {},
     "output_type": "execute_result"
    }
   ],
   "source": [
    "cards[0].__dict__"
   ]
  },
  {
   "cell_type": "code",
   "execution_count": 20,
   "id": "58ab3076-2274-4fa8-9517-3baa3bc0053b",
   "metadata": {
    "tags": []
   },
   "outputs": [],
   "source": [
    "sponsor = gravity.get_entry('20454')"
   ]
  },
  {
   "cell_type": "code",
   "execution_count": 24,
   "id": "198abbfe-6d57-414c-b1cd-e1004a14f4d6",
   "metadata": {
    "tags": []
   },
   "outputs": [
    {
     "name": "stdout",
     "output_type": "stream",
     "text": [
      "Got page: 1 of 200 results.\n",
      "Got page: 2 of 200 results.\n",
      "Got page: 3 of 200 results.\n",
      "Got page: 4 of 200 results.\n",
      "Got page: 5 of 200 results.\n",
      "Got page: 6 of 200 results.\n",
      "Got page: 7 of 200 results.\n",
      "Got page: 8 of 200 results.\n",
      "Got page: 9 of 200 results.\n",
      "Got page: 10 of 200 results.\n",
      "Got page: 11 of 200 results.\n",
      "Got page: 12 of 200 results.\n",
      "Got page: 13 of 200 results.\n",
      "Got page: 14 of 200 results.\n",
      "Got page: 15 of 200 results.\n",
      "Got page: 16 of 200 results.\n",
      "Got page: 17 of 200 results.\n",
      "Got page: 18 of 200 results.\n",
      "Got page: 19 of 200 results.\n",
      "Got page: 20 of 200 results.\n",
      "Got page: 21 of 200 results.\n",
      "Got page: 22 of 200 results.\n",
      "Got page: 23 of 200 results.\n",
      "Got page: 24 of 200 results.\n",
      "Got page: 25 of 200 results.\n",
      "Got page: 26 of 200 results.\n",
      "Got page: 27 of 200 results.\n",
      "Got page: 28 of 200 results.\n",
      "Got page: 29 of 200 results.\n",
      "Got page: 30 of 200 results.\n",
      "Got page: 31 of 200 results.\n",
      "Got page: 32 of 200 results.\n",
      "Got page: 33 of 200 results.\n",
      "Got page: 34 of 200 results.\n",
      "Got page: 35 of 200 results.\n",
      "Got page: 36 of 200 results.\n",
      "Got page: 37 of 200 results.\n",
      "Got page: 38 of 200 results.\n",
      "Got page: 39 of 200 results.\n",
      "Got page: 40 of 200 results.\n",
      "Got page: 41 of 200 results.\n",
      "Got page: 42 of 200 results.\n",
      "Got page: 43 of 200 results.\n",
      "Got page: 44 of 200 results.\n",
      "Got page: 45 of 200 results.\n",
      "Got page: 46 of 200 results.\n",
      "Got page: 47 of 200 results.\n",
      "Got page: 48 of 200 results.\n",
      "Got page: 49 of 200 results.\n",
      "Got page: 50 of 200 results.\n",
      "Got page: 51 of 200 results.\n",
      "Got page: 52 of 150 results.\n",
      "Got page: 53 of 0 results.\n",
      "No more pages\n"
     ]
    }
   ],
   "source": [
    "count = 1\n",
    "while True:\n",
    "    ents = gravity.get_entries(page=count, page_size=200, form_id=3)\n",
    "    print(f\"Got page: {count} of {len(ents)} results.\")\n",
    "    if not ents:\n",
    "        print(\"No more pages\")\n",
    "        break\n",
    "    count += 1"
   ]
  },
  {
   "cell_type": "code",
   "execution_count": null,
   "id": "ff5e1405-3a4b-42c8-ba9a-7db99b7943b4",
   "metadata": {},
   "outputs": [],
   "source": []
  }
 ],
 "metadata": {
  "kernelspec": {
   "display_name": "Python 3 (ipykernel)",
   "language": "python",
   "name": "python3"
  },
  "language_info": {
   "codemirror_mode": {
    "name": "ipython",
    "version": 3
   },
   "file_extension": ".py",
   "mimetype": "text/x-python",
   "name": "python",
   "nbconvert_exporter": "python",
   "pygments_lexer": "ipython3",
   "version": "3.10.4"
  }
 },
 "nbformat": 4,
 "nbformat_minor": 5
}
